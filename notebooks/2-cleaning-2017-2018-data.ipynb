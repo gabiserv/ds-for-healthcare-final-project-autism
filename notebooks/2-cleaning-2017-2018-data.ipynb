{
 "cells": [
  {
   "cell_type": "code",
   "execution_count": null,
   "metadata": {},
   "outputs": [],
   "source": [
    "import pandas as pd\n",
    "import numpy as np\n",
    "\n",
    "folderpath = \"/opt/helthcare-final-project-autism/notebooks/dataset/childhealthdata/2017-2018_NSCH_Topical_CSV_DRC_Jan2020\"\n",
    "filepath = f\"{folderpath}/2017-2018 NSCH_Topical_DRC_Dec 2019.csv\"\n",
    "\n",
    "column_description_path = f\"{folderpath}/2017-2018 NSCH_Topical_DRC_Variable List.xlsx\"\n",
    "# set seed for reproducibility\n",
    "np.random.seed(0) "
   ]
  },
  {
   "cell_type": "code",
   "execution_count": null,
   "metadata": {},
   "outputs": [],
   "source": [
    "df = pd.read_csv(filepath, index_col='HHID')"
   ]
  },
  {
   "cell_type": "markdown",
   "metadata": {},
   "source": [
    "### Convert missing values code to NaN\n",
    "```SPSS Codebook_ 2017-2018NSCH_DRCv1_12.31.19.pdf page 6, missing values codes```"
   ]
  },
  {
   "cell_type": "code",
   "execution_count": null,
   "metadata": {},
   "outputs": [],
   "source": [
    "df = df.replace([90, 95, 96, 99], np.nan)"
   ]
  },
  {
   "cell_type": "code",
   "execution_count": null,
   "metadata": {},
   "outputs": [],
   "source": [
    "df.describe()"
   ]
  },
  {
   "cell_type": "code",
   "execution_count": null,
   "metadata": {},
   "outputs": [],
   "source": [
    "df.sample(5)"
   ]
  },
  {
   "cell_type": "code",
   "execution_count": null,
   "metadata": {},
   "outputs": [],
   "source": [
    "missing_values_count = df.isnull().sum()/len(df.index)\n",
    "missing_values_count = missing_values_count.sort_values(ascending=False)"
   ]
  },
  {
   "cell_type": "code",
   "execution_count": null,
   "metadata": {},
   "outputs": [],
   "source": [
    "import seaborn as sns\n",
    "import matplotlib.pyplot as plt"
   ]
  },
  {
   "cell_type": "code",
   "execution_count": null,
   "metadata": {},
   "outputs": [],
   "source": [
    "# Plot a simple histogram with binsize determined automatically\n",
    "fig = sns.distplot(missing_values_count, bins=20, kde=False, color=\"b\")"
   ]
  },
  {
   "cell_type": "code",
   "execution_count": null,
   "metadata": {},
   "outputs": [],
   "source": [
    "for col in df.columns:\n",
    "    print(f\"{col} -- {df[col].unique().size}\", end='')\n",
    "    if df[col].unique().size < 100:\n",
    "        print(f\" -- {df[col].unique()}\")\n",
    "    else:\n",
    "        print('')"
   ]
  },
  {
   "attachments": {},
   "cell_type": "markdown",
   "metadata": {},
   "source": [
    "### Columns related to autism\n",
    "\n",
    "* **K2Q35A_1_YEARS** - Autism ASD - First Told Age in Years\n",
    "* **K2Q35A** - Autism ASD\n",
    "* **K2Q35B** -\tAutism ASD Currently\n",
    "* **AUTISMMED** - Autism ASD - Medication Currently\n",
    "* **AUTISMTREAT** - Autism ASD - Behavioral Treatment\n",
    "* **K2Q35C** - Autism ASD Severity Description\n",
    "* **K2Q35D** - Autism ASD - First Told Doctor Type \n",
    "* **autism_1718** - Children who currently have Autism or Autism Spectrum Disorder including Asperger's Disorder, pervasive developmental disorder, age 3-17 years\n",
    "* **AutismSev_1718** - Parent-rated severity of child's current autism/ASD, age 3-17 years\n",
    "* **AutismInd_1718** - Indicator 2.8: Children who currently have Autism or Autism Spectrum Disorder including Asperger's Disorder, pervasive developmental disorder, age 3-17 years\n",
    "* **ASDSevInd_1718** -\tIndicator 2.8a: Parent-rated severity of current Autism or Autism Spectrum Disorder, age 3-17 years\n",
    "* **ASDMed_1718** -\tIndicator 2.8b: Children currently taking medication for Autism, ASD, Asperger's Disorder or PDD, age 3-17 years\n",
    "* **ASDBehTreat_1718** -\tIndicator 2.8c: Received behavioral treatment for Autsim, ASD, Asperger's Disorder or PDD, age 3-17 years\n",
    "* **ASDAge_1718** -\tIndicator 2.8d: Age of diagnosis for Autism or ASD, age 3-17 years\n",
    "* **ASDDrType_1718** -\tIndicator 2.8e: Type of doctor or other health care provider who was the first to tell that this child had Autism, ASD, difficulties with emotions, concentration, or behavior, age 3-17 years\n",
    "* **MedEmotion_1718** -\tIndicator 2.9: Children who are taking medication for ADD/ADHD, ASD, difficulties with emotions, concentration, or behavior, age 3-17 years\n",
    "* **MEDB10ScrQ5_1718** - Children qualifying CSHCN Screener question 5 or experience one of the 10 MEDB conditions, age 3-17 (ADHD, depression, anxiety, behavior, autism, dev delay, Tourette, speech, intellectual disability or learning\n",
    "* **nom17_3ASD_1718** -\tNational Outcome Measure 17.3: Percent of children, ages 3 through 17, diagnosed with an autism spectrum disorder"
   ]
  },
  {
   "cell_type": "code",
   "execution_count": null,
   "metadata": {},
   "outputs": [],
   "source": [
    "df_vars = pd.read_excel(column_description_path) #.apply(lambda x: x.str.lower(), axis=1) #\n",
    "df_vars[df_vars['description'].fillna('').str.contains('autism', case=False)]"
   ]
  },
  {
   "cell_type": "code",
   "execution_count": null,
   "metadata": {},
   "outputs": [],
   "source": [
    "for col in ['K2Q35A_1_YEARS', 'K2Q35A', 'K2Q35B', 'K2Q35C', 'K2Q35D', 'AUTISMMED', 'AUTISMTREAT', 'K2Q35C', 'K2Q35D']:\n",
    "    print(df.reset_index().fillna(9999).groupby([col]).count()['HHID'])\n",
    "    print('')"
   ]
  },
  {
   "cell_type": "code",
   "execution_count": null,
   "metadata": {},
   "outputs": [],
   "source": [
    "df[['K2Q35A_1_YEARS', 'K2Q35A', 'ASDAge_1718']]"
   ]
  },
  {
   "cell_type": "code",
   "execution_count": null,
   "metadata": {},
   "outputs": [],
   "source": [
    "[c for c in df.columns if (('autism' in c.lower()) or ('asd' in c.lower()))]"
   ]
  },
  {
   "cell_type": "code",
   "execution_count": null,
   "metadata": {},
   "outputs": [],
   "source": [
    "df.reset_index().fillna(9999).groupby(['npm6DSc_1718']).count()['HHID']"
   ]
  }
 ],
 "metadata": {
  "kernelspec": {
   "display_name": "Python 3",
   "language": "python",
   "name": "python3"
  },
  "language_info": {
   "codemirror_mode": {
    "name": "ipython",
    "version": 3
   },
   "file_extension": ".py",
   "mimetype": "text/x-python",
   "name": "python",
   "nbconvert_exporter": "python",
   "pygments_lexer": "ipython3",
   "version": "3.7.6"
  }
 },
 "nbformat": 4,
 "nbformat_minor": 4
}
