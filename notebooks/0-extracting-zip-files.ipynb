{
 "cells": [
  {
   "cell_type": "code",
   "execution_count": 6,
   "metadata": {
    "colab": {
     "base_uri": "https://localhost:8080/",
     "height": 52
    },
    "colab_type": "code",
    "executionInfo": {
     "elapsed": 778,
     "status": "ok",
     "timestamp": 1589729083576,
     "user": {
      "displayName": "Thiago Giachetto de Araujo",
      "photoUrl": "https://lh3.googleusercontent.com/a-/AOh14GiV-ncb_5XTePL07ODjsRIGBHvHBgO6_n_FTuFq=s64",
      "userId": "01068750613724444144"
     },
     "user_tz": 180
    },
    "id": "HOVMUD55_z84",
    "outputId": "4fc5692a-9810-4c1a-965c-37a7adbd5215"
   },
   "outputs": [
    {
     "name": "stdout",
     "output_type": "stream",
     "text": [
      "/content/drive\n",
      "Drive already mounted at /content/drive; to attempt to forcibly remount, call drive.mount(\"/content/drive\", force_remount=True).\n"
     ]
    }
   ],
   "source": [
    "from google.colab import drive\n",
    "ROOT = \"/content/drive\"\n",
    "print(ROOT)\n",
    "drive.mount(ROOT)"
   ]
  },
  {
   "cell_type": "code",
   "execution_count": 0,
   "metadata": {
    "colab": {},
    "colab_type": "code",
    "id": "tUuW3sy-AjTH"
   },
   "outputs": [],
   "source": [
    "MY_PROJECT_PATH = 'My Drive/colab-projects/ds-for-healthcare-final-project-autism/' \n",
    "PROJECT_PATH = f\"{ROOT}/{MY_PROJECT_PATH}\"\n",
    "%cd {PROJECT_PATH}\n",
    "%ls"
   ]
  },
  {
   "cell_type": "markdown",
   "metadata": {
    "colab_type": "text",
    "id": "_VpW6XHVPTLb"
   },
   "source": [
    "Copy child health (that you can download [here](https://www.childhealthdata.org/dataset)) zipped data to a folder on the dataset folder"
   ]
  },
  {
   "cell_type": "code",
   "execution_count": 0,
   "metadata": {
    "colab": {},
    "colab_type": "code",
    "id": "5yFbxWA-NsC8"
   },
   "outputs": [],
   "source": [
    "CHILD_HEALTH_FOLDER = \"dataset/child-health-data/\"\n",
    "%cd {PROJECT_PATH}/{CHILD_HEALTH_FOLDER}\n",
    "%ls"
   ]
  },
  {
   "cell_type": "code",
   "execution_count": 0,
   "metadata": {
    "colab": {},
    "colab_type": "code",
    "id": "-BsYc5yTRj_j"
   },
   "outputs": [],
   "source": [
    "FILES_LIST = [\n",
    "              '2016-2017_NSCH_Topical_Implicate_DRC_Jan.zip',\n",
    "              'drc-2007-nsch-csv.zip',\n",
    "              '2017-2018_NSCH_Topical_CSV_DRC_Jan2020.zip',\n",
    "              'drc-2009-10-ns-cshcn-csv.zip',\n",
    "              '2018NSCH_Topical_CSV_DRC_May2020.zip',\n",
    "              'drc-2011-12-nsch-csv.zip',\n",
    "              'drc-2003-2007-nsch-merged-csv.zip',\n",
    "              'drc-2016-nsch-csv-v3.zip',\n",
    "              'drc-2003-nsch-csv.zip',\n",
    "              'DRC_2017_NSCH_Topical_CSV.zip',\n",
    "]\n",
    "\n",
    "for file in FILES_LIST:\n",
    "  !unzip {file} -d {(file.split('.'))[0]}"
   ]
  },
  {
   "cell_type": "code",
   "execution_count": 0,
   "metadata": {
    "colab": {},
    "colab_type": "code",
    "id": "gG2IRQJZXw1-"
   },
   "outputs": [],
   "source": [
    "import os\n",
    "\n",
    "!mkdir CSV\n",
    "\n",
    "# Getting the current work directory (cwd)\n",
    "thisdir = os.getcwd()\n",
    "\n",
    "# r=root, d=directories, f = files\n",
    "for r, d, f in os.walk(thisdir):\n",
    "    for file in f:\n",
    "        if file.endswith(\".csv\"):\n",
    "            print(os.path.join(r, file))\n",
    "            %mv \"{os.path.join(r, file)}\" CSV/"
   ]
  }
 ],
 "metadata": {
  "colab": {
   "authorship_tag": "ABX9TyNZiScQan10D8vkaJQn5vP4",
   "collapsed_sections": [],
   "name": "0-extracting-zip-files.ipynb",
   "provenance": []
  },
  "kernelspec": {
   "display_name": "Python 3",
   "language": "python",
   "name": "python3"
  },
  "language_info": {
   "codemirror_mode": {
    "name": "ipython",
    "version": 3
   },
   "file_extension": ".py",
   "mimetype": "text/x-python",
   "name": "python",
   "nbconvert_exporter": "python",
   "pygments_lexer": "ipython3",
   "version": "3.7.6"
  }
 },
 "nbformat": 4,
 "nbformat_minor": 1
}
