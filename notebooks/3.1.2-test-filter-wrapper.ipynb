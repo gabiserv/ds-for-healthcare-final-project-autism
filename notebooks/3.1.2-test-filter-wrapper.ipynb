{
 "cells": [
  {
   "cell_type": "code",
   "execution_count": 1,
   "metadata": {},
   "outputs": [],
   "source": [
    "import pandas as pd\n",
    "import numpy as np\n",
    "\n",
    "# set seed for reproducibility\n",
    "np.random.seed(0) "
   ]
  },
  {
   "cell_type": "code",
   "execution_count": 2,
   "metadata": {},
   "outputs": [],
   "source": [
    "folderpath = \"/opt/helthcare-final-project-autism/notebooks/data/processed\"\n",
    "filepath = f\"{folderpath}/2017-2018_NSCH_DRC.csv.gzip\""
   ]
  },
  {
   "cell_type": "code",
   "execution_count": 3,
   "metadata": {},
   "outputs": [],
   "source": [
    "df = pd.read_csv(filepath, index_col='HHID', compression='gzip')\n",
    "have_autism = df[['K2Q35B']].fillna(2)\n",
    "df = df[[col for col in df.columns.values if col != 'K2Q35B']]"
   ]
  },
  {
   "cell_type": "code",
   "execution_count": 4,
   "metadata": {},
   "outputs": [],
   "source": [
    "df_variables = pd.read_csv(f\"{folderpath}/2017-2018_description_columns.csv\", index_col=\"column\")"
   ]
  },
  {
   "cell_type": "code",
   "execution_count": 5,
   "metadata": {},
   "outputs": [
    {
     "name": "stderr",
     "output_type": "stream",
     "text": [
      "/opt/conda/lib/python3.7/site-packages/pandas/core/strings.py:1952: UserWarning: This pattern has match groups. To actually get the groups, use str.extract.\n",
      "  return func(self, *args, **kwargs)\n"
     ]
    }
   ],
   "source": [
    "description_itens_list = ['screener', 'asd', 'autism']\n",
    "autism_related_columns = df_variables[df_variables.description.fillna(\"\").str.contains(f\"({'|'.join(description_itens_list)})\", case=False)].index.tolist()"
   ]
  },
  {
   "cell_type": "code",
   "execution_count": 6,
   "metadata": {},
   "outputs": [],
   "source": [
    "df = df[[col for col in df.columns.values if col not in autism_related_columns]]"
   ]
  },
  {
   "cell_type": "code",
   "execution_count": 8,
   "metadata": {},
   "outputs": [
    {
     "data": {
      "text/html": [
       "<div>\n",
       "<style scoped>\n",
       "    .dataframe tbody tr th:only-of-type {\n",
       "        vertical-align: middle;\n",
       "    }\n",
       "\n",
       "    .dataframe tbody tr th {\n",
       "        vertical-align: top;\n",
       "    }\n",
       "\n",
       "    .dataframe thead th {\n",
       "        text-align: right;\n",
       "    }\n",
       "</style>\n",
       "<table border=\"1\" class=\"dataframe\">\n",
       "  <thead>\n",
       "    <tr style=\"text-align: right;\">\n",
       "      <th></th>\n",
       "      <th>K2Q36A</th>\n",
       "      <th>ERRANDALONE</th>\n",
       "      <th>DiffErrand_1718</th>\n",
       "      <th>SC_K2Q16</th>\n",
       "      <th>SpEducPln_1718</th>\n",
       "      <th>SpecServ_1718</th>\n",
       "      <th>SC_K2Q19</th>\n",
       "      <th>SC_K2Q22</th>\n",
       "      <th>K6Q15</th>\n",
       "      <th>ANYOTHER</th>\n",
       "      <th>...</th>\n",
       "      <th>MAKEFRIEND</th>\n",
       "      <th>MakeFr3to5_1718</th>\n",
       "      <th>SpSerAge_1718</th>\n",
       "      <th>learning_1718</th>\n",
       "      <th>SpEdAge_1718</th>\n",
       "      <th>LearnSev_1718</th>\n",
       "      <th>OthrMent_1718</th>\n",
       "      <th>OthMHSev_1718</th>\n",
       "      <th>DevDelay_1718</th>\n",
       "      <th>DevDelSev_1718</th>\n",
       "    </tr>\n",
       "    <tr>\n",
       "      <th>HHID</th>\n",
       "      <th></th>\n",
       "      <th></th>\n",
       "      <th></th>\n",
       "      <th></th>\n",
       "      <th></th>\n",
       "      <th></th>\n",
       "      <th></th>\n",
       "      <th></th>\n",
       "      <th></th>\n",
       "      <th></th>\n",
       "      <th></th>\n",
       "      <th></th>\n",
       "      <th></th>\n",
       "      <th></th>\n",
       "      <th></th>\n",
       "      <th></th>\n",
       "      <th></th>\n",
       "      <th></th>\n",
       "      <th></th>\n",
       "      <th></th>\n",
       "      <th></th>\n",
       "    </tr>\n",
       "  </thead>\n",
       "  <tbody>\n",
       "    <tr>\n",
       "      <th>17000010</th>\n",
       "      <td>2.0</td>\n",
       "      <td>NaN</td>\n",
       "      <td>NaN</td>\n",
       "      <td>2.0</td>\n",
       "      <td>NaN</td>\n",
       "      <td>2.0</td>\n",
       "      <td>2.0</td>\n",
       "      <td>2.0</td>\n",
       "      <td>2.0</td>\n",
       "      <td>2.0</td>\n",
       "      <td>...</td>\n",
       "      <td>NaN</td>\n",
       "      <td>NaN</td>\n",
       "      <td>0.0</td>\n",
       "      <td>NaN</td>\n",
       "      <td>NaN</td>\n",
       "      <td>NaN</td>\n",
       "      <td>NaN</td>\n",
       "      <td>NaN</td>\n",
       "      <td>NaN</td>\n",
       "      <td>NaN</td>\n",
       "    </tr>\n",
       "    <tr>\n",
       "      <th>17000013</th>\n",
       "      <td>2.0</td>\n",
       "      <td>2.0</td>\n",
       "      <td>2.0</td>\n",
       "      <td>2.0</td>\n",
       "      <td>2.0</td>\n",
       "      <td>2.0</td>\n",
       "      <td>2.0</td>\n",
       "      <td>2.0</td>\n",
       "      <td>2.0</td>\n",
       "      <td>2.0</td>\n",
       "      <td>...</td>\n",
       "      <td>1.0</td>\n",
       "      <td>NaN</td>\n",
       "      <td>0.0</td>\n",
       "      <td>1.0</td>\n",
       "      <td>0.0</td>\n",
       "      <td>1.0</td>\n",
       "      <td>1.0</td>\n",
       "      <td>1.0</td>\n",
       "      <td>1.0</td>\n",
       "      <td>1.0</td>\n",
       "    </tr>\n",
       "    <tr>\n",
       "      <th>17000025</th>\n",
       "      <td>2.0</td>\n",
       "      <td>2.0</td>\n",
       "      <td>2.0</td>\n",
       "      <td>1.0</td>\n",
       "      <td>1.0</td>\n",
       "      <td>2.0</td>\n",
       "      <td>2.0</td>\n",
       "      <td>2.0</td>\n",
       "      <td>1.0</td>\n",
       "      <td>2.0</td>\n",
       "      <td>...</td>\n",
       "      <td>1.0</td>\n",
       "      <td>NaN</td>\n",
       "      <td>0.0</td>\n",
       "      <td>1.0</td>\n",
       "      <td>3.0</td>\n",
       "      <td>1.0</td>\n",
       "      <td>1.0</td>\n",
       "      <td>1.0</td>\n",
       "      <td>1.0</td>\n",
       "      <td>1.0</td>\n",
       "    </tr>\n",
       "    <tr>\n",
       "      <th>17000031</th>\n",
       "      <td>2.0</td>\n",
       "      <td>NaN</td>\n",
       "      <td>NaN</td>\n",
       "      <td>2.0</td>\n",
       "      <td>2.0</td>\n",
       "      <td>2.0</td>\n",
       "      <td>2.0</td>\n",
       "      <td>2.0</td>\n",
       "      <td>2.0</td>\n",
       "      <td>2.0</td>\n",
       "      <td>...</td>\n",
       "      <td>1.0</td>\n",
       "      <td>NaN</td>\n",
       "      <td>0.0</td>\n",
       "      <td>1.0</td>\n",
       "      <td>0.0</td>\n",
       "      <td>1.0</td>\n",
       "      <td>1.0</td>\n",
       "      <td>1.0</td>\n",
       "      <td>1.0</td>\n",
       "      <td>1.0</td>\n",
       "    </tr>\n",
       "    <tr>\n",
       "      <th>17000034</th>\n",
       "      <td>2.0</td>\n",
       "      <td>NaN</td>\n",
       "      <td>NaN</td>\n",
       "      <td>2.0</td>\n",
       "      <td>NaN</td>\n",
       "      <td>2.0</td>\n",
       "      <td>2.0</td>\n",
       "      <td>2.0</td>\n",
       "      <td>NaN</td>\n",
       "      <td>2.0</td>\n",
       "      <td>...</td>\n",
       "      <td>1.0</td>\n",
       "      <td>NaN</td>\n",
       "      <td>0.0</td>\n",
       "      <td>1.0</td>\n",
       "      <td>NaN</td>\n",
       "      <td>1.0</td>\n",
       "      <td>1.0</td>\n",
       "      <td>1.0</td>\n",
       "      <td>1.0</td>\n",
       "      <td>1.0</td>\n",
       "    </tr>\n",
       "  </tbody>\n",
       "</table>\n",
       "<p>5 rows × 183 columns</p>\n",
       "</div>"
      ],
      "text/plain": [
       "          K2Q36A  ERRANDALONE  DiffErrand_1718  SC_K2Q16  SpEducPln_1718  \\\n",
       "HHID                                                                       \n",
       "17000010     2.0          NaN              NaN       2.0             NaN   \n",
       "17000013     2.0          2.0              2.0       2.0             2.0   \n",
       "17000025     2.0          2.0              2.0       1.0             1.0   \n",
       "17000031     2.0          NaN              NaN       2.0             2.0   \n",
       "17000034     2.0          NaN              NaN       2.0             NaN   \n",
       "\n",
       "          SpecServ_1718  SC_K2Q19  SC_K2Q22  K6Q15  ANYOTHER  ...  MAKEFRIEND  \\\n",
       "HHID                                                          ...               \n",
       "17000010            2.0       2.0       2.0    2.0       2.0  ...         NaN   \n",
       "17000013            2.0       2.0       2.0    2.0       2.0  ...         1.0   \n",
       "17000025            2.0       2.0       2.0    1.0       2.0  ...         1.0   \n",
       "17000031            2.0       2.0       2.0    2.0       2.0  ...         1.0   \n",
       "17000034            2.0       2.0       2.0    NaN       2.0  ...         1.0   \n",
       "\n",
       "          MakeFr3to5_1718  SpSerAge_1718  learning_1718  SpEdAge_1718  \\\n",
       "HHID                                                                    \n",
       "17000010              NaN            0.0            NaN           NaN   \n",
       "17000013              NaN            0.0            1.0           0.0   \n",
       "17000025              NaN            0.0            1.0           3.0   \n",
       "17000031              NaN            0.0            1.0           0.0   \n",
       "17000034              NaN            0.0            1.0           NaN   \n",
       "\n",
       "          LearnSev_1718  OthrMent_1718  OthMHSev_1718  DevDelay_1718  \\\n",
       "HHID                                                                   \n",
       "17000010            NaN            NaN            NaN            NaN   \n",
       "17000013            1.0            1.0            1.0            1.0   \n",
       "17000025            1.0            1.0            1.0            1.0   \n",
       "17000031            1.0            1.0            1.0            1.0   \n",
       "17000034            1.0            1.0            1.0            1.0   \n",
       "\n",
       "          DevDelSev_1718  \n",
       "HHID                      \n",
       "17000010             NaN  \n",
       "17000013             1.0  \n",
       "17000025             1.0  \n",
       "17000031             1.0  \n",
       "17000034             1.0  \n",
       "\n",
       "[5 rows x 183 columns]"
      ]
     },
     "execution_count": 8,
     "metadata": {},
     "output_type": "execute_result"
    }
   ],
   "source": [
    "from scipy.stats import spearmanr\n",
    "cor_col = []\n",
    "p_value_col = []\n",
    "for col in df.columns.values:\n",
    "    cor, p_value = spearmanr(df[col].values, have_autism.values, nan_policy='omit')\n",
    "    cor_col.append(cor)\n",
    "    p_value_col.append(cor)\n",
    "#     print(f\"{col} - spearman: {cor} - p-value: {p_value}\")\n",
    "\n",
    "df_spearman_corr = pd.DataFrame({'spearman': cor_col,\n",
    "                                 'p_value': p_value_col},\n",
    "                                 index=df.columns.values)\n",
    "df_spearman_corr = df_spearman_corr.sort_values(by=['spearman'], ascending=False)\n",
    "\n",
    "df_spearman_corr = df_spearman_corr.join(df_variables)\n",
    "\n",
    "filter_func = lambda x, lim: x>lim or x<-lim\n",
    "\n",
    "selected_columns = (df_spearman_corr[df_spearman_corr.spearman.apply(lambda x: filter_func(x, 0.1))].index.values.tolist())\n",
    "\n",
    "df_to_model = df[selected_columns]\n",
    "df_to_model.head()"
   ]
  },
  {
   "cell_type": "code",
   "execution_count": 9,
   "metadata": {},
   "outputs": [],
   "source": [
    "y = have_autism.values\n",
    "X = df_to_model.fillna('999').values"
   ]
  },
  {
   "cell_type": "code",
   "execution_count": 10,
   "metadata": {},
   "outputs": [],
   "source": [
    "from sklearn.model_selection import train_test_split\n",
    "X_train, X_test, y_train, y_test = train_test_split(X, y, test_size=0.3, random_state=0, stratify=y)"
   ]
  },
  {
   "cell_type": "code",
   "execution_count": 15,
   "metadata": {},
   "outputs": [
    {
     "data": {
      "text/plain": [
       "DecisionTreeClassifier(ccp_alpha=0.0, class_weight=None, criterion='gini',\n",
       "                       max_depth=None, max_features=None, max_leaf_nodes=None,\n",
       "                       min_impurity_decrease=0.0, min_impurity_split=None,\n",
       "                       min_samples_leaf=1, min_samples_split=2,\n",
       "                       min_weight_fraction_leaf=0.0, presort='deprecated',\n",
       "                       random_state=None, splitter='best')"
      ]
     },
     "execution_count": 15,
     "metadata": {},
     "output_type": "execute_result"
    }
   ],
   "source": [
    "from sklearn.tree import DecisionTreeClassifier\n",
    "clf = DecisionTreeClassifier()\n",
    "clf.fit(X_train, y_train)"
   ]
  },
  {
   "cell_type": "code",
   "execution_count": 16,
   "metadata": {},
   "outputs": [
    {
     "name": "stdout",
     "output_type": "stream",
     "text": [
      "              precision    recall  f1-score   support\n",
      "\n",
      "         1.0       0.44      0.48      0.46       404\n",
      "         2.0       0.99      0.98      0.99     15235\n",
      "\n",
      "    accuracy                           0.97     15639\n",
      "   macro avg       0.71      0.73      0.72     15639\n",
      "weighted avg       0.97      0.97      0.97     15639\n",
      "\n"
     ]
    }
   ],
   "source": [
    "from sklearn.metrics import classification_report\n",
    "print(classification_report(y_test, clf.predict(X_test)))"
   ]
  },
  {
   "cell_type": "code",
   "execution_count": 17,
   "metadata": {},
   "outputs": [
    {
     "name": "stderr",
     "output_type": "stream",
     "text": [
      "/opt/conda/lib/python3.7/site-packages/sklearn/utils/validation.py:760: DataConversionWarning: A column-vector y was passed when a 1d array was expected. Please change the shape of y to (n_samples, ), for example using ravel().\n",
      "  y = column_or_1d(y, warn=True)\n",
      "/opt/conda/lib/python3.7/site-packages/sklearn/linear_model/_logistic.py:940: ConvergenceWarning: lbfgs failed to converge (status=1):\n",
      "STOP: TOTAL NO. of ITERATIONS REACHED LIMIT.\n",
      "\n",
      "Increase the number of iterations (max_iter) or scale the data as shown in:\n",
      "    https://scikit-learn.org/stable/modules/preprocessing.html\n",
      "Please also refer to the documentation for alternative solver options:\n",
      "    https://scikit-learn.org/stable/modules/linear_model.html#logistic-regression\n",
      "  extra_warning_msg=_LOGISTIC_SOLVER_CONVERGENCE_MSG)\n"
     ]
    },
    {
     "name": "stdout",
     "output_type": "stream",
     "text": [
      "              precision    recall  f1-score   support\n",
      "\n",
      "         1.0       0.65      0.34      0.45       404\n",
      "         2.0       0.98      1.00      0.99     15235\n",
      "\n",
      "    accuracy                           0.98     15639\n",
      "   macro avg       0.82      0.67      0.72     15639\n",
      "weighted avg       0.97      0.98      0.98     15639\n",
      "\n"
     ]
    }
   ],
   "source": [
    "from sklearn.feature_selection import SelectFromModel\n",
    "from sklearn.linear_model import LogisticRegression\n",
    "\n",
    "selector = SelectFromModel(estimator=clf, threshold=0.005).fit(X_train, y_train)\n",
    "# selector.transform(X_train).shape\n",
    "logisticRegression = LogisticRegression().fit(selector.transform(X_train), y_train)\n",
    "\n",
    "print(classification_report(y_test, logisticRegression.predict(selector.transform(X_test))))"
   ]
  },
  {
   "cell_type": "code",
   "execution_count": 18,
   "metadata": {},
   "outputs": [
    {
     "name": "stderr",
     "output_type": "stream",
     "text": [
      "/opt/conda/lib/python3.7/site-packages/ipykernel_launcher.py:5: DataConversionWarning: A column-vector y was passed when a 1d array was expected. Please change the shape of y to (n_samples,), for example using ravel().\n",
      "  \"\"\"\n"
     ]
    },
    {
     "name": "stdout",
     "output_type": "stream",
     "text": [
      "              precision    recall  f1-score   support\n",
      "\n",
      "         1.0       0.80      0.03      0.06       404\n",
      "         2.0       0.97      1.00      0.99     15235\n",
      "\n",
      "    accuracy                           0.97     15639\n",
      "   macro avg       0.89      0.51      0.52     15639\n",
      "weighted avg       0.97      0.97      0.96     15639\n",
      "\n"
     ]
    }
   ],
   "source": [
    "from sklearn.ensemble import RandomForestClassifier\n",
    "\n",
    "randomForestClassifier = RandomForestClassifier(max_depth=3, random_state=0)\n",
    "\n",
    "randomForestClassifier.fit(X_train, y_train)\n",
    "\n",
    "print(classification_report(y_test, randomForestClassifier.predict(X_test)))"
   ]
  },
  {
   "cell_type": "code",
   "execution_count": 19,
   "metadata": {},
   "outputs": [
    {
     "name": "stderr",
     "output_type": "stream",
     "text": [
      "/opt/conda/lib/python3.7/site-packages/sklearn/utils/validation.py:760: DataConversionWarning: A column-vector y was passed when a 1d array was expected. Please change the shape of y to (n_samples, ), for example using ravel().\n",
      "  y = column_or_1d(y, warn=True)\n"
     ]
    },
    {
     "name": "stdout",
     "output_type": "stream",
     "text": [
      "              precision    recall  f1-score   support\n",
      "\n",
      "         1.0       0.73      0.22      0.34       404\n",
      "         2.0       0.98      1.00      0.99     15235\n",
      "\n",
      "    accuracy                           0.98     15639\n",
      "   macro avg       0.85      0.61      0.66     15639\n",
      "weighted avg       0.97      0.98      0.97     15639\n",
      "\n"
     ]
    }
   ],
   "source": [
    "from sklearn import svm\n",
    "\n",
    "svmClassifier = svm.SVC(random_state=0)\n",
    "\n",
    "svmClassifier.fit(X_train, y_train)\n",
    "\n",
    "print(classification_report(y_test, svmClassifier.predict(X_test)))"
   ]
  },
  {
   "cell_type": "code",
   "execution_count": 39,
   "metadata": {},
   "outputs": [
    {
     "name": "stderr",
     "output_type": "stream",
     "text": [
      "/opt/conda/lib/python3.7/site-packages/sklearn/feature_selection/_from_model.py:222: DataConversionWarning: A column-vector y was passed when a 1d array was expected. Please change the shape of y to (n_samples,), for example using ravel().\n",
      "  self.estimator_.fit(X, y, **fit_params)\n",
      "/opt/conda/lib/python3.7/site-packages/sklearn/utils/validation.py:760: DataConversionWarning: A column-vector y was passed when a 1d array was expected. Please change the shape of y to (n_samples, ), for example using ravel().\n",
      "  y = column_or_1d(y, warn=True)\n"
     ]
    },
    {
     "name": "stdout",
     "output_type": "stream",
     "text": [
      "              precision    recall  f1-score   support\n",
      "\n",
      "         1.0       0.68      0.31      0.43       404\n",
      "         2.0       0.98      1.00      0.99     15235\n",
      "\n",
      "    accuracy                           0.98     15639\n",
      "   macro avg       0.83      0.66      0.71     15639\n",
      "weighted avg       0.97      0.98      0.97     15639\n",
      "\n"
     ]
    }
   ],
   "source": [
    "from sklearn.pipeline import Pipeline\n",
    "from sklearn.ensemble import RandomForestClassifier\n",
    "from sklearn import svm\n",
    "from sklearn.feature_selection import SelectFromModel\n",
    "from sklearn.metrics import classification_report\n",
    "\n",
    "clf_pipeline = Pipeline([\n",
    "  ('feature_selection', SelectFromModel(RandomForestClassifier(max_depth=3, random_state=0),\n",
    "                                        threshold=\"0.667*median\", max_features=25)),\n",
    "  ('classification', svm.SVC(random_state=0))\n",
    "])\n",
    "clf_pipeline.fit(X_train, y_train)\n",
    "\n",
    "print(classification_report(y_test, clf_pipeline.predict(X_test)))"
   ]
  },
  {
   "cell_type": "code",
   "execution_count": 40,
   "metadata": {},
   "outputs": [
    {
     "name": "stdout",
     "output_type": "stream",
     "text": [
      "25\n"
     ]
    },
    {
     "data": {
      "text/plain": [
       "['K2Q36A',\n",
       " 'SC_K2Q16',\n",
       " 'SpEducPln_1718',\n",
       " 'SpecServ_1718',\n",
       " 'SC_K2Q19',\n",
       " 'SC_K2Q22',\n",
       " 'ANYOTHER',\n",
       " 'K2Q30A',\n",
       " 'mhneeds_1718',\n",
       " 'SC_K2Q20',\n",
       " 'CSHCNComplex_1718',\n",
       " 'K2Q37A',\n",
       " 'K4Q38',\n",
       " 'K2Q36B',\n",
       " 'SESCURRSVC',\n",
       " 'SC_K2Q21',\n",
       " 'SC_K2Q23',\n",
       " 'SC_K2Q14',\n",
       " 'SC_K2Q17',\n",
       " 'ANYOTHER_CURR',\n",
       " 'SESPLANYR',\n",
       " 'K2Q36C',\n",
       " 'CondCnt27_1718',\n",
       " 'MAKEFRIEND',\n",
       " 'SpSerAge_1718']"
      ]
     },
     "execution_count": 40,
     "metadata": {},
     "output_type": "execute_result"
    }
   ],
   "source": [
    "columns_of_model = [y for x, y in zip(clf_pipeline['feature_selection'].get_support(), selected_columns) if x]\n",
    "print(len(columns_of_model))\n",
    "columns_of_model"
   ]
  }
 ],
 "metadata": {
  "kernelspec": {
   "display_name": "Python 3",
   "language": "python",
   "name": "python3"
  },
  "language_info": {
   "codemirror_mode": {
    "name": "ipython",
    "version": 3
   },
   "file_extension": ".py",
   "mimetype": "text/x-python",
   "name": "python",
   "nbconvert_exporter": "python",
   "pygments_lexer": "ipython3",
   "version": "3.7.6"
  }
 },
 "nbformat": 4,
 "nbformat_minor": 4
}
