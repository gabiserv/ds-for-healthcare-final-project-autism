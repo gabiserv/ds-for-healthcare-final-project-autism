{
 "cells": [
  {
   "cell_type": "code",
   "execution_count": null,
   "metadata": {},
   "outputs": [],
   "source": [
    "import pandas as pd\n",
    "import numpy as np\n",
    "\n",
    "# set seed for reproducibility\n",
    "np.random.seed(0) "
   ]
  },
  {
   "cell_type": "code",
   "execution_count": null,
   "metadata": {},
   "outputs": [],
   "source": [
    "folderpath = \"/opt/helthcare-final-project-autism/notebooks/data/processed\"\n",
    "filepath = f\"{folderpath}/2017-2018_NSCH_DRC.csv.gzip\""
   ]
  },
  {
   "cell_type": "code",
   "execution_count": null,
   "metadata": {},
   "outputs": [],
   "source": [
    "df = pd.read_csv(filepath, index_col='HHID', compression='gzip')\n",
    "have_autism = df[['K2Q35B']].fillna(2)\n",
    "df = df[[col for col in df.columns.values if col != 'K2Q35B']]"
   ]
  },
  {
   "cell_type": "code",
   "execution_count": null,
   "metadata": {},
   "outputs": [],
   "source": [
    "df_variables = pd.read_csv(f\"{folderpath}/2017-2018_description_columns.csv\", index_col=\"column\")"
   ]
  },
  {
   "cell_type": "code",
   "execution_count": null,
   "metadata": {},
   "outputs": [],
   "source": [
    "description_itens_list = ['screener', 'asd', 'autism']\n",
    "autism_related_columns = df_variables[df_variables.description.fillna(\"\").str.contains(f\"({'|'.join(description_itens_list)})\", case=False)].index.tolist()"
   ]
  },
  {
   "cell_type": "code",
   "execution_count": null,
   "metadata": {},
   "outputs": [],
   "source": [
    "df = df[[col for col in df.columns.values if col not in autism_related_columns]]"
   ]
  },
  {
   "cell_type": "code",
   "execution_count": null,
   "metadata": {},
   "outputs": [],
   "source": [
    "from scipy.stats import spearmanr\n",
    "cor_col = []\n",
    "p_value_col = []\n",
    "for col in df.columns.values:\n",
    "    cor, p_value = spearmanr(df[col].values, have_autism.values, nan_policy='omit')\n",
    "    cor_col.append(cor)\n",
    "    p_value_col.append(cor)\n",
    "#     print(f\"{col} - spearman: {cor} - p-value: {p_value}\")\n",
    "\n",
    "df_spearman_corr = pd.DataFrame({'spearman': cor_col,\n",
    "                                 'p_value': p_value_col},\n",
    "                                 index=df.columns.values)\n",
    "df_spearman_corr = df_spearman_corr.sort_values(by=['spearman'], ascending=False)\n",
    "\n",
    "df_spearman_corr = df_spearman_corr.join(df_variables)\n",
    "\n",
    "filter_func = lambda x, lim: x>lim or x<-lim\n",
    "\n",
    "selected_columns = (df_spearman_corr[df_spearman_corr.spearman.apply(lambda x: filter_func(x, 0.1))].index.values.tolist())\n",
    "\n",
    "df_to_model = df[selected_columns]\n",
    "df_to_model.head()"
   ]
  },
  {
   "cell_type": "code",
   "execution_count": null,
   "metadata": {},
   "outputs": [],
   "source": [
    "y = have_autism.values\n",
    "X = df_to_model.fillna('999').values"
   ]
  },
  {
   "cell_type": "code",
   "execution_count": null,
   "metadata": {},
   "outputs": [],
   "source": [
    "from sklearn.model_selection import train_test_split\n",
    "X_train, X_test, y_train, y_test = train_test_split(X, y, test_size=0.3, random_state=0, stratify=y)"
   ]
  },
  {
   "cell_type": "code",
   "execution_count": null,
   "metadata": {},
   "outputs": [],
   "source": [
    "from sklearn.tree import DecisionTreeClassifier\n",
    "clf = DecisionTreeClassifier()\n",
    "clf.fit(X_train, y_train)"
   ]
  },
  {
   "cell_type": "code",
   "execution_count": null,
   "metadata": {},
   "outputs": [],
   "source": [
    "from sklearn.metrics import classification_report\n",
    "print(classification_report(y_test, clf.predict(X_test)))"
   ]
  },
  {
   "cell_type": "code",
   "execution_count": null,
   "metadata": {},
   "outputs": [],
   "source": [
    "from sklearn.feature_selection import SelectFromModel\n",
    "from sklearn.linear_model import LogisticRegression\n",
    "\n",
    "selector = SelectFromModel(estimator=clf, threshold=0.005).fit(X_train, y_train)\n",
    "# selector.transform(X_train).shape\n",
    "logisticRegression = LogisticRegression().fit(selector.transform(X_train), y_train)\n",
    "\n",
    "print(classification_report(y_test, logisticRegression.predict(selector.transform(X_test))))"
   ]
  },
  {
   "cell_type": "code",
   "execution_count": null,
   "metadata": {},
   "outputs": [],
   "source": [
    "from sklearn.ensemble import RandomForestClassifier\n",
    "\n",
    "randomForestClassifier = RandomForestClassifier(max_depth=3, random_state=0)\n",
    "\n",
    "randomForestClassifier.fit(X_train, y_train)\n",
    "\n",
    "print(classification_report(y_test, randomForestClassifier.predict(X_test)))"
   ]
  },
  {
   "cell_type": "code",
   "execution_count": null,
   "metadata": {},
   "outputs": [],
   "source": [
    "from sklearn import svm\n",
    "\n",
    "svmClassifier = svm.SVC(random_state=0)\n",
    "\n",
    "svmClassifier.fit(X_train, y_train)\n",
    "\n",
    "print(classification_report(y_test, svmClassifier.predict(X_test)))"
   ]
  },
  {
   "cell_type": "code",
   "execution_count": null,
   "metadata": {},
   "outputs": [],
   "source": [
    "from sklearn.pipeline import Pipeline\n",
    "from sklearn.ensemble import RandomForestClassifier\n",
    "from sklearn import svm\n",
    "from sklearn.feature_selection import SelectFromModel\n",
    "from sklearn.metrics import classification_report\n",
    "\n",
    "clf_pipeline = Pipeline([\n",
    "  ('feature_selection', SelectFromModel(RandomForestClassifier(max_depth=3, random_state=0),\n",
    "                                        threshold=\"0.667*median\", max_features=25)),\n",
    "  ('classification', svm.SVC(random_state=0))\n",
    "])\n",
    "clf_pipeline.fit(X_train, y_train)\n",
    "\n",
    "print(classification_report(y_test, clf_pipeline.predict(X_test)))"
   ]
  },
  {
   "cell_type": "code",
   "execution_count": null,
   "metadata": {},
   "outputs": [],
   "source": [
    "columns_of_model = [y for x, y in zip(clf_pipeline['feature_selection'].get_support(), selected_columns) if x]\n",
    "print(len(columns_of_model))"
   ]
  },
  {
   "cell_type": "code",
   "execution_count": null,
   "metadata": {},
   "outputs": [],
   "source": [
    "%load_ext autoreload\n",
    "%autoreload 2\n",
    "\n",
    "import os\n",
    "import sys\n",
    "nb_dir = os.path.split(os.getcwd())[0]\n",
    "if nb_dir not in sys.path:\n",
    "    sys.path.append(nb_dir)\n",
    "\n",
    "from src.variablesName import VariablesName\n",
    "vNames = VariablesName()\n",
    "for col in columns_of_model:\n",
    "    print(f\"{col}   {vNames.descriptionOfColumn(col)}\")"
   ]
  }
 ],
 "metadata": {
  "kernelspec": {
   "display_name": "Python 3",
   "language": "python",
   "name": "python3"
  },
  "language_info": {
   "codemirror_mode": {
    "name": "ipython",
    "version": 3
   },
   "file_extension": ".py",
   "mimetype": "text/x-python",
   "name": "python",
   "nbconvert_exporter": "python",
   "pygments_lexer": "ipython3",
   "version": "3.7.6"
  }
 },
 "nbformat": 4,
 "nbformat_minor": 4
}
