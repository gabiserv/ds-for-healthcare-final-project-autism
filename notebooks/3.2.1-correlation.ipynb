{
 "cells": [
  {
   "cell_type": "code",
   "execution_count": 1,
   "metadata": {},
   "outputs": [],
   "source": [
    "%load_ext autoreload\n",
    "%autoreload 2\n",
    "\n",
    "import os\n",
    "import sys\n",
    "\n",
    "nb_dir = os.path.split(os.getcwd())[0]\n",
    "if nb_dir not in sys.path:\n",
    "    sys.path.append(nb_dir)\n",
    "\n",
    "from src.variablesName import VariablesName\n",
    "import src.pathconfig as pathcfg\n",
    "\n",
    "vNames = VariablesName()"
   ]
  },
  {
   "cell_type": "code",
   "execution_count": 2,
   "metadata": {},
   "outputs": [],
   "source": [
    "import pandas as pd\n",
    "import numpy as np\n",
    "\n",
    "# set seed for reproducibility\n",
    "np.random.seed(0) "
   ]
  },
  {
   "cell_type": "code",
   "execution_count": 3,
   "metadata": {},
   "outputs": [],
   "source": [
    "folderpath = pathcfg.folderpath\n",
    "filepath = f\"{folderpath}/2017-2018_NSCH_DRC.csv.gzip\""
   ]
  },
  {
   "cell_type": "code",
   "execution_count": 4,
   "metadata": {},
   "outputs": [],
   "source": [
    "df = pd.read_csv(filepath, index_col='HHID', compression='gzip')\n",
    "have_autism = df[['K2Q35B']].fillna(2)\n",
    "df = df[[col for col in df.columns.values if col != 'K2Q35B']]"
   ]
  },
  {
   "cell_type": "code",
   "execution_count": 5,
   "metadata": {},
   "outputs": [],
   "source": [
    "from scipy.stats import spearmanr\n",
    "cor_col = []\n",
    "p_value_col = []\n",
    "for col in df.columns.values:\n",
    "    cor, p_value = spearmanr(df[col].values, have_autism.values, nan_policy='omit')\n",
    "    cor_col.append(cor)\n",
    "    p_value_col.append(cor)\n",
    "#     print(f\"{col} - spearman: {cor} - p-value: {p_value}\")\n",
    "\n",
    "df_spearman_corr = pd.DataFrame({'spearman': cor_col,\n",
    "                                 'p_value': p_value_col},\n",
    "                                 index=df.columns.values)\n",
    "df_spearman_corr = df_spearman_corr.sort_values(by=['spearman'], ascending=False)\n",
    "\n",
    "df_spearman_corr.reset_index(inplace=True)\n",
    "df_spearman_corr['description'] = df_spearman_corr['index'].apply(lambda x: vNames.descriptionOfColumn(x))\n",
    "df_spearman_corr.set_index('index', inplace=True)"
   ]
  },
  {
   "cell_type": "code",
   "execution_count": 8,
   "metadata": {},
   "outputs": [],
   "source": [
    "import matplotlib.pyplot as plt\n"
   ]
  },
  {
   "cell_type": "code",
   "execution_count": 28,
   "metadata": {},
   "outputs": [
    {
     "data": {
      "image/png": "[encoded data removed]",
      "text/plain": [
       "<Figure size 720x360 with 1 Axes>"
      ]
     },
     "metadata": {
      "needs_background": "light"
     },
     "output_type": "display_data"
    }
   ],
   "source": [
    "%matplotlib inline \n",
    "#notebook\n",
    "\n",
    "cfg = {'linewidth':0.5,\n",
    "      'marker':'.'}\n",
    "\n",
    "plt.figure(figsize=(10, 5))\n",
    "fig = plt.scatter(df_spearman_corr.index, df_spearman_corr.spearman, **cfg)\n",
    "plt.title(\"Spearman correlation of questions\")\n",
    "plt.ylabel('Correlation')\n",
    "plt.xlabel('Questions')\n",
    "\n",
    "plt.show()"
   ]
  },
  {
   "cell_type": "code",
   "execution_count": 29,
   "metadata": {},
   "outputs": [
    {
     "data": {
      "text/plain": [
       "matplotlib.collections.PathCollection"
      ]
     },
     "execution_count": 29,
     "metadata": {},
     "output_type": "execute_result"
    }
   ],
   "source": [
    "type(fig)"
   ]
  },
  {
   "cell_type": "code",
   "execution_count": null,
   "metadata": {},
   "outputs": [],
   "source": [
    "description_itens_list = ['screener', 'asd', 'autism', 'sc ', 'cshcn', 'indicator'] \n",
    "autism_related_columns = [col for col in vNames.allColumns() if any(c in vNames.descriptionOfColumn(col).lower() for c in description_itens_list)]\n",
    "print(autism_related_columns)"
   ]
  },
  {
   "cell_type": "code",
   "execution_count": null,
   "metadata": {},
   "outputs": [],
   "source": [
    "for col in autism_related_columns:\n",
    "    print(f\"{col}   {vNames.descriptionOfColumn(col)}\")"
   ]
  },
  {
   "cell_type": "code",
   "execution_count": null,
   "metadata": {},
   "outputs": [],
   "source": [
    "df = df[[col for col in df.columns if col not in autism_related_columns]]"
   ]
  },
  {
   "cell_type": "code",
   "execution_count": null,
   "metadata": {},
   "outputs": [],
   "source": [
    "filter_func = lambda x, lim: x>lim or x<-lim\n",
    "\n",
    "selected_columns = (df_spearman_corr[df_spearman_corr.spearman.apply(lambda x: filter_func(x, 0.1))].index.values.tolist())\n",
    "\n",
    "model_columns = [col for col in selected_columns if col in df.columns]\n",
    "df_to_model = df[model_columns]\n",
    "df_to_model.head()"
   ]
  }
 ],
 "metadata": {
  "kernelspec": {
   "display_name": "Python 3",
   "language": "python",
   "name": "python3"
  },
  "language_info": {
   "codemirror_mode": {
    "name": "ipython",
    "version": 3
   },
   "file_extension": ".py",
   "mimetype": "text/x-python",
   "name": "python",
   "nbconvert_exporter": "python",
   "pygments_lexer": "ipython3",
   "version": "3.7.6"
  }
 },
 "nbformat": 4,
 "nbformat_minor": 4
}
