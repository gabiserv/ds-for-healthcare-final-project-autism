{
 "cells": [
  {
   "cell_type": "markdown",
   "metadata": {
    "colab_type": "text",
    "id": "kq2yEH5wdOTo"
   },
   "source": [
    "Mount space for your drive"
   ]
  },
  {
   "cell_type": "code",
   "execution_count": 0,
   "metadata": {
    "colab": {},
    "colab_type": "code",
    "id": "qSE4V2rnc5Ny"
   },
   "outputs": [],
   "source": [
    "from google.colab import drive\n",
    "ROOT = \"/content/drive\"\n",
    "print(ROOT)\n",
    "drive.mount(ROOT)"
   ]
  },
  {
   "cell_type": "code",
   "execution_count": 0,
   "metadata": {
    "colab": {},
    "colab_type": "code",
    "id": "Dy1opFD4dfGg"
   },
   "outputs": [],
   "source": [
    "from os.path import join\n",
    "CSV_FOLDER_PATH = 'My Drive/colab-projects/ds-for-healthcare-final-project-autism/dataset/child-health-data/CSV'\n",
    "%cd \"{join(ROOT, CSV_FOLDER_PATH)}\"\n",
    "%ls"
   ]
  },
  {
   "cell_type": "code",
   "execution_count": 0,
   "metadata": {
    "colab": {},
    "colab_type": "code",
    "id": "gUk3fMmXeQR3"
   },
   "outputs": [],
   "source": [
    "import pandas as pd"
   ]
  },
  {
   "cell_type": "code",
   "execution_count": 0,
   "metadata": {
    "colab": {},
    "colab_type": "code",
    "id": "Qtj6w6lieTNX"
   },
   "outputs": [],
   "source": [
    "filepath = join(ROOT, CSV_FOLDER_PATH, '2003 2007 NSCH merged.csv')\n",
    "df = pd.read_csv(filepath)\n",
    "df.describe()"
   ]
  }
 ],
 "metadata": {
  "colab": {
   "authorship_tag": "ABX9TyNoWh7swtBwprkd1IbbsAtf",
   "collapsed_sections": [],
   "name": "1-playground.ipynb",
   "provenance": []
  },
  "kernelspec": {
   "display_name": "Python 3",
   "language": "python",
   "name": "python3"
  },
  "language_info": {
   "codemirror_mode": {
    "name": "ipython",
    "version": 3
   },
   "file_extension": ".py",
   "mimetype": "text/x-python",
   "name": "python",
   "nbconvert_exporter": "python",
   "pygments_lexer": "ipython3",
   "version": "3.7.6"
  }
 },
 "nbformat": 4,
 "nbformat_minor": 1
}
