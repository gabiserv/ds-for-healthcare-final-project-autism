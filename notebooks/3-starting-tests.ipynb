{
 "cells": [
  {
   "cell_type": "code",
   "execution_count": null,
   "metadata": {},
   "outputs": [],
   "source": [
    "import pandas as pd\n",
    "import numpy as np\n",
    "\n",
    "# set seed for reproducibility\n",
    "np.random.seed(0) "
   ]
  },
  {
   "cell_type": "code",
   "execution_count": null,
   "metadata": {},
   "outputs": [],
   "source": [
    "folderpath = \"/opt/helthcare-final-project-autism/notebooks/data/processed\"\n",
    "filepath = f\"{folderpath}/2017-2018_NSCH_DRC.csv.gzip\""
   ]
  },
  {
   "cell_type": "code",
   "execution_count": null,
   "metadata": {},
   "outputs": [],
   "source": [
    "df = pd.read_csv(filepath, index_col='HHID', compression='gzip')\n",
    "have_autism = df[['K2Q35B']].fillna(2)\n",
    "df = df[[col for col in df.columns.values if col != 'K2Q35B']]"
   ]
  },
  {
   "cell_type": "code",
   "execution_count": null,
   "metadata": {},
   "outputs": [],
   "source": [
    "from scipy.stats import spearmanr\n",
    "cor_col = []\n",
    "p_value_col = []\n",
    "for col in df.columns.values:\n",
    "    cor, p_value = spearmanr(df[col].values, have_autism.values, nan_policy='omit')\n",
    "    cor_col.append(cor)\n",
    "    p_value_col.append(cor)\n",
    "    print(f\"{col} - spearman: {cor} - p-value: {p_value}\")"
   ]
  },
  {
   "cell_type": "code",
   "execution_count": null,
   "metadata": {},
   "outputs": [],
   "source": [
    "df_variables = pd.read_csv(f\"{folderpath}/2017-2018_description_columns.csv\", index_col=\"column\")"
   ]
  },
  {
   "cell_type": "code",
   "execution_count": null,
   "metadata": {},
   "outputs": [],
   "source": [
    "df_spearman_corr = pd.DataFrame({'spearman': cor_col,\n",
    "                                 'p_value': p_value_col},\n",
    "                                 index=df.columns.values)\n",
    "df_spearman_corr = df_spearman_corr.sort_values(by=['spearman'], ascending=False)"
   ]
  },
  {
   "cell_type": "code",
   "execution_count": null,
   "metadata": {},
   "outputs": [],
   "source": [
    "df_spearman_corr = df_spearman_corr.join(df_variables)\n",
    "df_spearman_corr.head(n=50)"
   ]
  },
  {
   "cell_type": "code",
   "execution_count": null,
   "metadata": {},
   "outputs": [],
   "source": [
    "# itens_list = ['_1718']\n",
    "# df_spearman_corr_[df_spearman_corr_.index.str.contains(f\"({'|'.join(itens_list)})\")]\n",
    "\n",
    "description_itens_list = ['screener']\n",
    "exclude_columns = df_spearman_corr[df_spearman_corr.description.fillna('').str.contains(f\"({'|'.join(description_itens_list)})\", case=False)].index.values\n",
    "df_spearman_corr_ = df_spearman_corr.loc[[c for c in df_spearman_corr.index.values if c not in exclude_columns]]\n",
    "\n",
    "df_spearman_corr_.head(n=25)"
   ]
  },
  {
   "cell_type": "code",
   "execution_count": null,
   "metadata": {},
   "outputs": [],
   "source": [
    "selected_columns = (df_spearman_corr_.head(n=25).index.values.tolist())\n",
    "df_to_model = df[selected_columns]\n",
    "df_to_model.head()\n",
    "# have_autism # to predict"
   ]
  },
  {
   "cell_type": "code",
   "execution_count": null,
   "metadata": {},
   "outputs": [],
   "source": [
    "y = have_autism.values\n",
    "X = df_to_model.fillna('999').values"
   ]
  },
  {
   "cell_type": "code",
   "execution_count": null,
   "metadata": {},
   "outputs": [],
   "source": [
    "from sklearn.model_selection import train_test_split\n",
    "X_train, X_test, y_train, y_test = train_test_split(X, y, test_size=0.3, random_state=0, stratify=y)"
   ]
  },
  {
   "cell_type": "code",
   "execution_count": null,
   "metadata": {},
   "outputs": [],
   "source": [
    "from sklearn.tree import DecisionTreeClassifier\n",
    "clf = DecisionTreeClassifier()\n",
    "clf.fit(X_train, y_train)"
   ]
  },
  {
   "cell_type": "code",
   "execution_count": null,
   "metadata": {},
   "outputs": [],
   "source": [
    "from sklearn.metrics import classification_report\n",
    "print(classification_report(y_test, clf.predict(X_test)))"
   ]
  },
  {
   "cell_type": "code",
   "execution_count": null,
   "metadata": {},
   "outputs": [],
   "source": []
  }
 ],
 "metadata": {
  "kernelspec": {
   "display_name": "Python 3",
   "language": "python",
   "name": "python3"
  },
  "language_info": {
   "codemirror_mode": {
    "name": "ipython",
    "version": 3
   },
   "file_extension": ".py",
   "mimetype": "text/x-python",
   "name": "python",
   "nbconvert_exporter": "python",
   "pygments_lexer": "ipython3",
   "version": "3.7.6"
  }
 },
 "nbformat": 4,
 "nbformat_minor": 4
}
