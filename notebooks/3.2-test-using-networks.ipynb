{
 "cells": [
  {
   "cell_type": "code",
   "execution_count": null,
   "metadata": {},
   "outputs": [],
   "source": [
    "import pandas as pd\n",
    "import numpy as np\n",
    "\n",
    "# set seed for reproducibility\n",
    "np.random.seed(0) "
   ]
  },
  {
   "cell_type": "code",
   "execution_count": null,
   "metadata": {},
   "outputs": [],
   "source": [
    "folderpath = \"/opt/helthcare-final-project-autism/notebooks/data/processed\"\n",
    "filepath = f\"{folderpath}/2017-2018_NSCH_DRC.csv.gzip\""
   ]
  },
  {
   "cell_type": "code",
   "execution_count": null,
   "metadata": {},
   "outputs": [],
   "source": [
    "df = pd.read_csv(filepath, index_col='HHID', compression='gzip')\n",
    "# have_autism = df[['K2Q35B']].fillna(2)\n",
    "# df = df[[col for col in df.columns.values if col != 'K2Q35B']]"
   ]
  },
  {
   "cell_type": "code",
   "execution_count": null,
   "metadata": {},
   "outputs": [],
   "source": [
    "# https://networkx.github.io/\n",
    "# Python package for network analysis\n",
    "import networkx as nx"
   ]
  },
  {
   "cell_type": "code",
   "execution_count": null,
   "metadata": {},
   "outputs": [],
   "source": [
    "df_min = df #.iloc[:5000]\n",
    "# df_min.shape\n",
    "binaryColumns = (df.nunique(axis=0).loc[lambda x: x==2]).index.tolist()\n",
    "df_min = df_min[binaryColumns]\n",
    "'K2Q35B' in binaryColumns"
   ]
  },
  {
   "cell_type": "code",
   "execution_count": null,
   "metadata": {},
   "outputs": [],
   "source": [
    "G = nx.Graph()\n",
    "\n",
    "G.add_nodes_from(df_min.index, bipartite=0)\n",
    "G.add_nodes_from(binaryColumns, bipartite=1)"
   ]
  },
  {
   "cell_type": "code",
   "execution_count": null,
   "metadata": {},
   "outputs": [],
   "source": [
    "df_min.head()"
   ]
  },
  {
   "cell_type": "code",
   "execution_count": null,
   "metadata": {},
   "outputs": [],
   "source": [
    "for column in binaryColumns:\n",
    "#     print([(a, column) for a in df_min[column].loc[lambda x: x==1].index])\n",
    "    G.add_edges_from([(a, column) for a in df_min[column].loc[lambda x: x==1].index]) #, weight=1)"
   ]
  },
  {
   "cell_type": "code",
   "execution_count": null,
   "metadata": {},
   "outputs": [],
   "source": [
    "# G.adj"
   ]
  },
  {
   "cell_type": "code",
   "execution_count": null,
   "metadata": {},
   "outputs": [],
   "source": [
    "%matplotlib notebook\n",
    "\n",
    "# G.adj\n",
    "import matplotlib.pyplot as plt\n",
    "\n",
    "G.remove_nodes_from(list(nx.isolates(G)))\n",
    "\n",
    "# print([a for a in nx.isolates(G)])\n",
    "#     print(a)\n",
    "\n",
    "\n",
    "# # Separate by group\n",
    "# l, r = nx.bipartite.sets(G)\n",
    "# pos = {}\n",
    "\n",
    "# # Update position for node from each group\n",
    "# pos.update((node, (1, index)) for index, node in enumerate(l))\n",
    "# pos.update((node, (2, index)) for index, node in enumerate(r))\n",
    "\n",
    "# nx.draw(G, pos=pos)\n",
    "\n",
    "options = {\n",
    "    \"node_color\": \"black\",\n",
    "    \"node_size\": 50,\n",
    "    \"line_color\": \"grey\",\n",
    "    \"linewidths\": 0,\n",
    "    \"width\": 0.1,\n",
    "}\n",
    "\n",
    "fig = nx.draw_random(G, **options)\n",
    "plt.show()"
   ]
  },
  {
   "cell_type": "markdown",
   "metadata": {},
   "source": [
    "## Homogeneous network "
   ]
  },
  {
   "cell_type": "code",
   "execution_count": null,
   "metadata": {},
   "outputs": [],
   "source": [
    "from itertools import combinations\n",
    "a = {el:0 for el in combinations(binaryColumns, 2)}\n",
    "\n",
    "for index in df_min.index:\n",
    "    for edge in combinations(df_min.loc[index].loc[lambda x: x==1].index.tolist(), 2):\n",
    "        a[edge] += 1\n",
    "\n",
    "max_edge = max([a[edge] for edge in a])\n",
    "a = {i:a[i] for i in a if a[i]!=0}\n",
    "a = {i:a[i]/max_edge for i in a}\n",
    "\n",
    "G_hom = nx.Graph()\n",
    "G_hom.add_weighted_edges_from([(*edge, a[edge]) for edge in a])"
   ]
  },
  {
   "cell_type": "code",
   "execution_count": null,
   "metadata": {},
   "outputs": [],
   "source": [
    "%matplotlib notebook\n",
    "\n",
    "import matplotlib.pyplot as plt\n",
    "\n",
    "options = {\n",
    "    \"node_color\": \"black\",\n",
    "    \"node_size\": 50,\n",
    "    \"line_color\": \"grey\",\n",
    "    \"linewidths\": 0,\n",
    "    \"width\": 0.1,\n",
    "}\n",
    "\n",
    "fig = nx.draw_spring(G_hom, **options)\n",
    "plt.show()"
   ]
  },
  {
   "cell_type": "code",
   "execution_count": null,
   "metadata": {},
   "outputs": [],
   "source": [
    "nx.write_gexf(G_hom, \"G_hom_2.gexf\")"
   ]
  },
  {
   "cell_type": "code",
   "execution_count": null,
   "metadata": {},
   "outputs": [],
   "source": [
    "a = {(0,0):1, (0,1):2}\n",
    "\n",
    "b = [(*i, a[i]) for i in a]\n",
    "\n",
    "print(b)"
   ]
  }
 ],
 "metadata": {
  "kernelspec": {
   "display_name": "Python 3",
   "language": "python",
   "name": "python3"
  },
  "language_info": {
   "codemirror_mode": {
    "name": "ipython",
    "version": 3
   },
   "file_extension": ".py",
   "mimetype": "text/x-python",
   "name": "python",
   "nbconvert_exporter": "python",
   "pygments_lexer": "ipython3",
   "version": "3.7.6"
  }
 },
 "nbformat": 4,
 "nbformat_minor": 4
}
