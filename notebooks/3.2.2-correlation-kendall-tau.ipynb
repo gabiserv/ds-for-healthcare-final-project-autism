{
 "cells": [
  {
   "cell_type": "code",
   "execution_count": null,
   "metadata": {},
   "outputs": [],
   "source": [
    "%load_ext autoreload\n",
    "%autoreload 2\n",
    "\n",
    "import os\n",
    "import sys\n",
    "\n",
    "nb_dir = os.path.split(os.getcwd())[0]\n",
    "if nb_dir not in sys.path:\n",
    "    sys.path.append(nb_dir)\n",
    "\n",
    "from src.variablesName import VariablesName\n",
    "import src.pathconfig as pathcfg\n",
    "\n",
    "vNames = VariablesName()"
   ]
  },
  {
   "cell_type": "code",
   "execution_count": null,
   "metadata": {},
   "outputs": [],
   "source": [
    "import pandas as pd\n",
    "import numpy as np\n",
    "\n",
    "# set seed for reproducibility\n",
    "np.random.seed(0) "
   ]
  },
  {
   "cell_type": "code",
   "execution_count": null,
   "metadata": {},
   "outputs": [],
   "source": [
    "folderpath = pathcfg.folderpath\n",
    "filepath = f\"{folderpath}/2017-2018_NSCH_DRC.csv.gzip\""
   ]
  },
  {
   "cell_type": "code",
   "execution_count": null,
   "metadata": {},
   "outputs": [],
   "source": [
    "df = pd.read_csv(filepath, index_col='HHID', compression='gzip')\n",
    "have_autism = df[['K2Q35B']].fillna(2)\n",
    "df = df[[col for col in df.columns.values if col != 'K2Q35B']]"
   ]
  },
  {
   "cell_type": "code",
   "execution_count": null,
   "metadata": {},
   "outputs": [],
   "source": [
    "from scipy.stats import kendalltau\n",
    "from time import time\n",
    "\n",
    "cor_col = []\n",
    "p_value_col = []\n",
    "start_time = time()\n",
    "for i, col in enumerate(df.columns.values):\n",
    "    cor, p_value = kendalltau(df[col].values, have_autism.values, nan_policy='omit', method='asymptotic')\n",
    "    cor_col.append(cor)\n",
    "    p_value_col.append(cor)\n",
    "    if i%10==0 and i!=0:\n",
    "        print(f\"i:{i} dt: {time()-start_time}\")\n",
    "#     print(f\"{col} - kendall: {cor} - p-value: {p_value}\")\n",
    "\n",
    "df_kendall_corr = pd.DataFrame({'kendall': cor_col,\n",
    "                                 'p_value': p_value_col},\n",
    "                                 index=df.columns.values)\n",
    "# df_kendall_corr = df_kendall_corr.sort_values(by=['kendall'], ascending=False)\n",
    "\n",
    "df_kendall_corr.reset_index(inplace=True)\n",
    "df_kendall_corr['description'] = df_kendall_corr['index'].apply(lambda x: vNames.descriptionOfColumn(x))\n",
    "df_kendall_corr.set_index('index', inplace=True)"
   ]
  },
  {
   "cell_type": "code",
   "execution_count": null,
   "metadata": {},
   "outputs": [],
   "source": [
    "description_itens_list = ['screener', 'asd', 'autism', 'sc ', 'cshcn', 'indicator'] \n",
    "autism_related_columns = [col for col in vNames.allColumns() if any(c in vNames.descriptionOfColumn(col).lower() for c in description_itens_list)]\n",
    "# print(autism_related_columns)"
   ]
  },
  {
   "cell_type": "code",
   "execution_count": null,
   "metadata": {},
   "outputs": [],
   "source": [
    "# for col in autism_related_columns:\n",
    "#     print(f\"{col}   {vNames.descriptionOfColumn(col)}\")"
   ]
  },
  {
   "cell_type": "code",
   "execution_count": null,
   "metadata": {},
   "outputs": [],
   "source": [
    "df = df[[col for col in df.columns if col not in autism_related_columns]]"
   ]
  },
  {
   "cell_type": "code",
   "execution_count": null,
   "metadata": {},
   "outputs": [],
   "source": [
    "filter_func = lambda x, lim: x>lim or x<-lim\n",
    "\n",
    "selected_columns = (df_kendall_corr[df_kendall_corr.kendall.apply(lambda x: filter_func(x, 0.1))].index.values.tolist())\n",
    "\n",
    "model_columns = [col for col in selected_columns if col in df.columns]\n",
    "df_to_model = df[model_columns]\n",
    "# df_to_model.head()"
   ]
  },
  {
   "cell_type": "code",
   "execution_count": null,
   "metadata": {},
   "outputs": [],
   "source": [
    "import matplotlib.pyplot as plt\n",
    "import matplotlib.patches as mpatches\n",
    "from seaborn import palplot, color_palette\n",
    "\n",
    "color_pal = color_palette(\"Set1\")\n",
    "excludedColor = color_pal[-1]\n",
    "notExcludedModelColor = color_pal[0]\n",
    "\n",
    "df_kendall_corr.reset_index(inplace=True)\n",
    "df_kendall_corr['color'] = df_kendall_corr['index'].apply(lambda x: notExcludedModelColor if x in model_columns else excludedColor)\n",
    "df_kendall_corr.set_index('index', inplace=True)\n",
    "\n",
    "\n",
    "notExcluded_patch = mpatches.Patch(color=notExcludedModelColor, label='Not Excluded Question')\n",
    "excluded_patch = mpatches.Patch(color=excludedColor, label='Excluded Question')"
   ]
  },
  {
   "cell_type": "code",
   "execution_count": null,
   "metadata": {},
   "outputs": [],
   "source": [
    "%matplotlib inline\n",
    "\n",
    "cfg = {'linewidth':0.5,\n",
    "      'marker':'o'}\n",
    "\n",
    "# marker=markerList,\n",
    "plt.figure(figsize=(20, 10))\n",
    "fig = plt.scatter(df_kendall_corr.index, df_kendall_corr.kendall, c=df_kendall_corr.color, **cfg)\n",
    "\n",
    "plt.title(\"Kendall correlation of questions\")\n",
    "plt.ylabel('Correlation')\n",
    "plt.xlabel('Questions')\n",
    "plt.xticks(list())\n",
    "plt.legend(handles=[excluded_patch, notExcluded_patch])\n",
    "\n",
    "plt.show()"
   ]
  },
  {
   "cell_type": "code",
   "execution_count": null,
   "metadata": {},
   "outputs": [],
   "source": [
    "%matplotlib inline \n",
    "\n",
    "\n",
    "cfg = {'linewidth':0.5,\n",
    "      'marker':'o'}\n",
    "df_plot = df_kendall_corr\n",
    "df_plot = df_kendall_corr.sort_values(by=['kendall'], ascending=False)\n",
    "\n",
    "# marker=markerList,\n",
    "plt.figure(figsize=(20, 10))\n",
    "fig = plt.scatter(df_plot.index, df_plot.kendall, c=df_plot.color, **cfg)\n",
    "\n",
    "plt.title(\"Kendall correlation of questions\")\n",
    "plt.ylabel('Correlation')\n",
    "plt.xlabel('Questions')\n",
    "plt.xticks(list())\n",
    "plt.legend(handles=[excluded_patch, notExcluded_patch])\n",
    "\n",
    "plt.show()"
   ]
  }
 ],
 "metadata": {
  "kernelspec": {
   "display_name": "Python 3",
   "language": "python",
   "name": "python3"
  },
  "language_info": {
   "codemirror_mode": {
    "name": "ipython",
    "version": 3
   },
   "file_extension": ".py",
   "mimetype": "text/x-python",
   "name": "python",
   "nbconvert_exporter": "python",
   "pygments_lexer": "ipython3",
   "version": "3.7.6"
  }
 },
 "nbformat": 4,
 "nbformat_minor": 4
}
